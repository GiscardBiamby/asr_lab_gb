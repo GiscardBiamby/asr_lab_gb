{
 "cells": [
  {
   "cell_type": "code",
   "execution_count": 1,
   "metadata": {},
   "outputs": [],
   "source": [
    "import pandas as pd\n",
    "import numpy as np\n",
    "from pathlib import Path\n",
    "import json"
   ]
  },
  {
   "cell_type": "code",
   "execution_count": 2,
   "metadata": {},
   "outputs": [],
   "source": [
    "DATA_DIR = Path(\"/Users/gbiamby/Downloads/utterances_600_8khz\")\n",
    "assert DATA_DIR.exists()"
   ]
  },
  {
   "cell_type": "code",
   "execution_count": 3,
   "metadata": {},
   "outputs": [
    {
     "name": "stdout",
     "output_type": "stream",
     "text": [
      "index:  RangeIndex(start=0, stop=600, step=1) cols:  Index(['row_id', 'text', 'filename'], dtype='object')\n"
     ]
    },
    {
     "data": {
      "text/html": [
       "<div>\n",
       "<style scoped>\n",
       "    .dataframe tbody tr th:only-of-type {\n",
       "        vertical-align: middle;\n",
       "    }\n",
       "\n",
       "    .dataframe tbody tr th {\n",
       "        vertical-align: top;\n",
       "    }\n",
       "\n",
       "    .dataframe thead th {\n",
       "        text-align: right;\n",
       "    }\n",
       "</style>\n",
       "<table border=\"1\" class=\"dataframe\">\n",
       "  <thead>\n",
       "    <tr style=\"text-align: right;\">\n",
       "      <th></th>\n",
       "      <th>row_id</th>\n",
       "      <th>text</th>\n",
       "      <th>filename</th>\n",
       "    </tr>\n",
       "  </thead>\n",
       "  <tbody>\n",
       "    <tr>\n",
       "      <th>0</th>\n",
       "      <td>0</td>\n",
       "      <td>The original plan, which Lord knows didn't mea...</td>\n",
       "      <td>0.wav</td>\n",
       "    </tr>\n",
       "    <tr>\n",
       "      <th>1</th>\n",
       "      <td>1</td>\n",
       "      <td>If nothing went too badly wrong, it would take...</td>\n",
       "      <td>1.wav</td>\n",
       "    </tr>\n",
       "    <tr>\n",
       "      <th>2</th>\n",
       "      <td>2</td>\n",
       "      <td>I had seen Clark in so many different situatio...</td>\n",
       "      <td>2.wav</td>\n",
       "    </tr>\n",
       "    <tr>\n",
       "      <th>3</th>\n",
       "      <td>3</td>\n",
       "      <td>But there is nothing like sixteen days on the ...</td>\n",
       "      <td>3.wav</td>\n",
       "    </tr>\n",
       "    <tr>\n",
       "      <th>4</th>\n",
       "      <td>4</td>\n",
       "      <td>On the Atlantic crossing Hyperion would carry ...</td>\n",
       "      <td>4.wav</td>\n",
       "    </tr>\n",
       "    <tr>\n",
       "      <th>...</th>\n",
       "      <td>...</td>\n",
       "      <td>...</td>\n",
       "      <td>...</td>\n",
       "    </tr>\n",
       "    <tr>\n",
       "      <th>595</th>\n",
       "      <td>595</td>\n",
       "      <td>I knew my next company would be a start-up.</td>\n",
       "      <td>595.wav</td>\n",
       "    </tr>\n",
       "    <tr>\n",
       "      <th>596</th>\n",
       "      <td>596</td>\n",
       "      <td>And I knew that anything smaller than Netscape...</td>\n",
       "      <td>596.wav</td>\n",
       "    </tr>\n",
       "    <tr>\n",
       "      <th>597</th>\n",
       "      <td>597</td>\n",
       "      <td>That day in December 1995, after Jim Clark sho...</td>\n",
       "      <td>597.wav</td>\n",
       "    </tr>\n",
       "    <tr>\n",
       "      <th>598</th>\n",
       "      <td>598</td>\n",
       "      <td>He asked Kittu to take a walk with him.</td>\n",
       "      <td>598.wav</td>\n",
       "    </tr>\n",
       "    <tr>\n",
       "      <th>599</th>\n",
       "      <td>599</td>\n",
       "      <td>The two men spent several hours walking along ...</td>\n",
       "      <td>599.wav</td>\n",
       "    </tr>\n",
       "  </tbody>\n",
       "</table>\n",
       "<p>600 rows × 3 columns</p>\n",
       "</div>"
      ],
      "text/plain": [
       "     row_id                                               text filename\n",
       "0         0  The original plan, which Lord knows didn't mea...    0.wav\n",
       "1         1  If nothing went too badly wrong, it would take...    1.wav\n",
       "2         2  I had seen Clark in so many different situatio...    2.wav\n",
       "3         3  But there is nothing like sixteen days on the ...    3.wav\n",
       "4         4  On the Atlantic crossing Hyperion would carry ...    4.wav\n",
       "..      ...                                                ...      ...\n",
       "595     595        I knew my next company would be a start-up.  595.wav\n",
       "596     596  And I knew that anything smaller than Netscape...  596.wav\n",
       "597     597  That day in December 1995, after Jim Clark sho...  597.wav\n",
       "598     598            He asked Kittu to take a walk with him.  598.wav\n",
       "599     599  The two men spent several hours walking along ...  599.wav\n",
       "\n",
       "[600 rows x 3 columns]"
      ]
     },
     "metadata": {},
     "output_type": "display_data"
    }
   ],
   "source": [
    "df = pd.read_csv(Path(\"./utterances_600.txt\"), header=0, sep=\"\\t\")\n",
    "df.reset_index(inplace=True)\n",
    "df.columns = [\"row_id\", \"text\"]\n",
    "df[\"filename\"] = df[\"row_id\"].apply(lambda i: f\"{i}.wav\" )\n",
    "# df[\"filename\"] = df[\"row_id\"].apply(lambda i: f\"{i}\".zfill(4) + \".wav\")\n",
    "print(\"index: \", df.index, \"cols: \", df.columns)\n",
    "display(df)"
   ]
  },
  {
   "attachments": {},
   "cell_type": "markdown",
   "metadata": {},
   "source": [
    "## Resample to 16khz\n"
   ]
  },
  {
   "cell_type": "code",
   "execution_count": null,
   "metadata": {},
   "outputs": [],
   "source": [
    "import os\n",
    "\n",
    "input_dir = (DATA_DIR / \"wave\").resolve()\n",
    "\n",
    "final_path = Path(\"./data_giscard\").resolve()\n",
    "if not final_path.exists():\n",
    "    final_path.mkdir(exist_ok=True, parents=True)\n",
    "\n",
    "\n",
    "def resample_wav(filename: str, input_dir: Path, output_dir: Path):\n",
    "    source_file = input_dir / filename\n",
    "    output_file = output_dir / filename\n",
    "\n",
    "    output_str = f\"ffmpeg -i {source_file} -ac 1 -ar 16000 {output_file}\"\n",
    "    os.system(output_str)\n",
    "    print(output_str)\n",
    "\n",
    "for filename in df.filename.values:\n",
    "    resample_wav(filename, input_dir, final_path)"
   ]
  },
  {
   "cell_type": "code",
   "execution_count": 5,
   "metadata": {},
   "outputs": [
    {
     "data": {
      "text/html": [
       "<div>\n",
       "<style scoped>\n",
       "    .dataframe tbody tr th:only-of-type {\n",
       "        vertical-align: middle;\n",
       "    }\n",
       "\n",
       "    .dataframe tbody tr th {\n",
       "        vertical-align: top;\n",
       "    }\n",
       "\n",
       "    .dataframe thead th {\n",
       "        text-align: right;\n",
       "    }\n",
       "</style>\n",
       "<table border=\"1\" class=\"dataframe\">\n",
       "  <thead>\n",
       "    <tr style=\"text-align: right;\">\n",
       "      <th></th>\n",
       "      <th>file</th>\n",
       "      <th>text</th>\n",
       "    </tr>\n",
       "  </thead>\n",
       "  <tbody>\n",
       "    <tr>\n",
       "      <th>0</th>\n",
       "      <td>data_giscard/0.wav</td>\n",
       "      <td>The original plan, which Lord knows didn't mea...</td>\n",
       "    </tr>\n",
       "    <tr>\n",
       "      <th>1</th>\n",
       "      <td>data_giscard/1.wav</td>\n",
       "      <td>If nothing went too badly wrong, it would take...</td>\n",
       "    </tr>\n",
       "    <tr>\n",
       "      <th>2</th>\n",
       "      <td>data_giscard/2.wav</td>\n",
       "      <td>I had seen Clark in so many different situatio...</td>\n",
       "    </tr>\n",
       "    <tr>\n",
       "      <th>3</th>\n",
       "      <td>data_giscard/3.wav</td>\n",
       "      <td>But there is nothing like sixteen days on the ...</td>\n",
       "    </tr>\n",
       "    <tr>\n",
       "      <th>4</th>\n",
       "      <td>data_giscard/4.wav</td>\n",
       "      <td>On the Atlantic crossing Hyperion would carry ...</td>\n",
       "    </tr>\n",
       "    <tr>\n",
       "      <th>...</th>\n",
       "      <td>...</td>\n",
       "      <td>...</td>\n",
       "    </tr>\n",
       "    <tr>\n",
       "      <th>595</th>\n",
       "      <td>data_giscard/595.wav</td>\n",
       "      <td>I knew my next company would be a start-up.</td>\n",
       "    </tr>\n",
       "    <tr>\n",
       "      <th>596</th>\n",
       "      <td>data_giscard/596.wav</td>\n",
       "      <td>And I knew that anything smaller than Netscape...</td>\n",
       "    </tr>\n",
       "    <tr>\n",
       "      <th>597</th>\n",
       "      <td>data_giscard/597.wav</td>\n",
       "      <td>That day in December 1995, after Jim Clark sho...</td>\n",
       "    </tr>\n",
       "    <tr>\n",
       "      <th>598</th>\n",
       "      <td>data_giscard/598.wav</td>\n",
       "      <td>He asked Kittu to take a walk with him.</td>\n",
       "    </tr>\n",
       "    <tr>\n",
       "      <th>599</th>\n",
       "      <td>data_giscard/599.wav</td>\n",
       "      <td>The two men spent several hours walking along ...</td>\n",
       "    </tr>\n",
       "  </tbody>\n",
       "</table>\n",
       "<p>600 rows × 2 columns</p>\n",
       "</div>"
      ],
      "text/plain": [
       "                     file                                               text\n",
       "0      data_giscard/0.wav  The original plan, which Lord knows didn't mea...\n",
       "1      data_giscard/1.wav  If nothing went too badly wrong, it would take...\n",
       "2      data_giscard/2.wav  I had seen Clark in so many different situatio...\n",
       "3      data_giscard/3.wav  But there is nothing like sixteen days on the ...\n",
       "4      data_giscard/4.wav  On the Atlantic crossing Hyperion would carry ...\n",
       "..                    ...                                                ...\n",
       "595  data_giscard/595.wav        I knew my next company would be a start-up.\n",
       "596  data_giscard/596.wav  And I knew that anything smaller than Netscape...\n",
       "597  data_giscard/597.wav  That day in December 1995, after Jim Clark sho...\n",
       "598  data_giscard/598.wav            He asked Kittu to take a walk with him.\n",
       "599  data_giscard/599.wav  The two men spent several hours walking along ...\n",
       "\n",
       "[600 rows x 2 columns]"
      ]
     },
     "execution_count": 5,
     "metadata": {},
     "output_type": "execute_result"
    }
   ],
   "source": [
    "df_giscard = df[[\"filename\", \"text\"]].copy(deep=True)\n",
    "df_giscard[\"filename\"] = df_giscard.filename.apply(lambda f: str(Path(\"data_giscard/\") / f))\n",
    "df_giscard.columns = [\"file\", \"text\"]\n",
    "df_giscard"
   ]
  },
  {
   "cell_type": "markdown",
   "metadata": {},
   "source": [
    "### Remove entries that don't have a matching wav file"
   ]
  },
  {
   "cell_type": "code",
   "execution_count": 6,
   "metadata": {},
   "outputs": [],
   "source": [
    "def file_exists(filename: str):\n",
    "    file_path = Path(filename)\n",
    "    return file_path.exists()\n",
    "\n",
    "df_giscard[\"file_exists\"] = df_giscard.file.apply(lambda f: file_exists(f))\n",
    "df_giscard = df_giscard[df_giscard.file_exists].copy(deep=True)"
   ]
  },
  {
   "cell_type": "markdown",
   "metadata": {},
   "source": [
    "## Create train/val/test splits"
   ]
  },
  {
   "cell_type": "code",
   "execution_count": 7,
   "metadata": {},
   "outputs": [
    {
     "name": "stdout",
     "output_type": "stream",
     "text": [
      "479 60 60\n",
      "Total utterances:  599\n",
      "599\n"
     ]
    }
   ],
   "source": [
    "df_train = df_giscard.sample(frac=0.8)\n",
    "df_valid = df_giscard[~df_giscard.file.isin(df_train.file)].sample(frac=0.5)\n",
    "df_test = df_giscard[~((df_giscard.file.isin(df_train.file))|(df_giscard.file.isin(df_valid.file)))]\n",
    "print(len(df_train), len(df_valid), len(df_test))\n",
    "print(\"Total utterances: \", len(df_giscard))\n",
    "# Make sure the train/valid/test test are not overlapping, and don't exclude any of the utterances:\n",
    "print(len(set(df_train.file.values) | set(df_valid.file.values) | set(df_test.file.values)))"
   ]
  },
  {
   "attachments": {},
   "cell_type": "markdown",
   "metadata": {},
   "source": [
    "### Write train/val/test CSVs"
   ]
  },
  {
   "cell_type": "code",
   "execution_count": 8,
   "metadata": {},
   "outputs": [],
   "source": [
    "df_train.to_csv(final_path / \"train.csv\", header=True, index=False)\n",
    "df_valid.to_csv(final_path / \"valid.csv\", header=True, index=False)\n",
    "df_test.to_csv(final_path / \"test.csv\", header=True, index=False)"
   ]
  },
  {
   "cell_type": "code",
   "execution_count": null,
   "metadata": {},
   "outputs": [],
   "source": []
  }
 ],
 "metadata": {
  "kernelspec": {
   "display_name": "asr_lab",
   "language": "python",
   "name": "python3"
  },
  "language_info": {
   "codemirror_mode": {
    "name": "ipython",
    "version": 3
   },
   "file_extension": ".py",
   "mimetype": "text/x-python",
   "name": "python",
   "nbconvert_exporter": "python",
   "pygments_lexer": "ipython3",
   "version": "3.9.0"
  },
  "orig_nbformat": 4,
  "vscode": {
   "interpreter": {
    "hash": "ee8ef42f1bdd716cf8bdb8ab9b07f0c6b083986604ea7989614b3174bc1d6bbc"
   }
  }
 },
 "nbformat": 4,
 "nbformat_minor": 2
}
